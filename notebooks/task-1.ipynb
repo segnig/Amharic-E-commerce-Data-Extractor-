{
 "cells": [
  {
   "cell_type": "code",
   "execution_count": null,
   "id": "3799b927",
   "metadata": {},
   "outputs": [],
   "source": [
    "\n",
    "    "
   ]
  },
  {
   "cell_type": "code",
   "execution_count": null,
   "id": "303d1e74",
   "metadata": {},
   "outputs": [
    {
     "name": "stdout",
     "output_type": "stream",
     "text": [
      "['@ZemenExpress', '@nevacomputer', '@meneshayeofficial', '@ethio_brand_collection', '@Leyueqa', '@sinayelj', '@Shewabrand', '@helloomarketethiopia', '@modernshoppingcenter', '@qnashcom', '@Fashiontera', '@kuruwear', '@gebeyaadama', '@MerttEka', '@forfreemarket', '@classybrands', '@marakibrand', '@aradabrand2', '@marakisat2', '@belaclassic', '@AwasMart', '@qnashcom']\n"
     ]
    }
   ],
   "source": [
    "\n"
   ]
  },
  {
   "cell_type": "code",
   "execution_count": null,
   "id": "5996a9ed",
   "metadata": {},
   "outputs": [],
   "source": []
  }
 ],
 "metadata": {
  "kernelspec": {
   "display_name": ".venv",
   "language": "python",
   "name": "python3"
  },
  "language_info": {
   "codemirror_mode": {
    "name": "ipython",
    "version": 3
   },
   "file_extension": ".py",
   "mimetype": "text/x-python",
   "name": "python",
   "nbconvert_exporter": "python",
   "pygments_lexer": "ipython3",
   "version": "3.11.9"
  }
 },
 "nbformat": 4,
 "nbformat_minor": 5
}
